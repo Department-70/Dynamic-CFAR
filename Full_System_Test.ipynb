{
 "cells": [
  {
   "cell_type": "markdown",
   "metadata": {},
   "source": [
    "# CFAR Full System Analysis\n",
    "\n",
    "Geoffrey Dolinger"
   ]
  },
  {
   "cell_type": "code",
   "execution_count": 1,
   "metadata": {},
   "outputs": [
    {
     "data": {
      "text/plain": [
       "'C:\\\\Users\\\\Geoffrey Dolinger\\\\Documents\\\\GitHub\\\\Dynamic-CFAR\\\\classifier'"
      ]
     },
     "execution_count": 1,
     "metadata": {},
     "output_type": "execute_result"
    }
   ],
   "source": [
    "import sys\n",
    "import os\n",
    "os.getcwd()"
   ]
  },
  {
   "cell_type": "code",
   "execution_count": 2,
   "metadata": {},
   "outputs": [],
   "source": [
    "os.chdir('C:\\\\Users\\\\Geoffrey Dolinger\\\\Documents\\\\GitHub\\\\Dynamic-CFAR')\n",
    "from System_Parser_SC import *"
   ]
  },
  {
   "cell_type": "markdown",
   "metadata": {},
   "source": [
    "Establish parser and the arguments for the 4 class case [Gaussian, K-Distribution (a=0.5,b=1), K-Distribution (a=1.5,b=1),K-Distribution (a=4.5,b=1)] The Dense Network Design and Metrics are presented below:"
   ]
  },
  {
   "cell_type": "code",
   "execution_count": 3,
   "metadata": {},
   "outputs": [],
   "source": [
    "parser = create_parser()"
   ]
  },
  {
   "cell_type": "code",
   "execution_count": 7,
   "metadata": {},
   "outputs": [],
   "source": [
    "args = parser.parse_args(['@sys.txt','--exp_index', '13'])"
   ]
  },
  {
   "cell_type": "code",
   "execution_count": 8,
   "metadata": {},
   "outputs": [
    {
     "data": {
      "text/plain": [
       "Namespace(exp_index=13, exp_type='sys_sweep', label='PFA', results_path='./results', verbose=1, algorithm='glrt', N=16, K=32, P_fa=0.0001, sample_len=16, PRI=1e-08, f_d=20000000.0, target=False, max_test=100, discriminator='./models/ordered_a_Dense200_50_drop_0_100_LR_0_000100_model', data='./datasets/clutter_final_G.mat', model_name='./models/*_Dense200_50_drop_0_100_LR_0_000100_model', model_final='./models/G_GF4_Dense500_50_drop_0_100_LR_0_000100_model', alg='glrt', dist='gaussian')"
      ]
     },
     "execution_count": 8,
     "metadata": {},
     "output_type": "execute_result"
    }
   ],
   "source": [
    "args"
   ]
  },
  {
   "cell_type": "code",
   "execution_count": 9,
   "metadata": {},
   "outputs": [
    {
     "name": "stdout",
     "output_type": "stream",
     "text": [
      "Total jobs: 20\n",
      "{'P_fa': 0.0007, 'target': True}\n",
      "(100000, 16)\n",
      "WARNING:tensorflow:SavedModel saved prior to TF 2.5 detected when loading Keras model. Please ensure that you are saving the model with model.save() or tf.keras.models.save_model(), *NOT* tf.saved_model.save(). To confirm, there should be a file named \"keras_metadata.pb\" in the SavedModel directory.\n",
      "------\n",
      "0\n",
      "------\n",
      "1\n",
      "------\n",
      "2\n",
      "------\n",
      "3\n",
      "------\n",
      "4\n",
      "------\n",
      "5\n",
      "------\n",
      "6\n",
      "------\n",
      "7\n",
      "------\n",
      "8\n",
      "------\n",
      "9\n",
      "------\n",
      "10\n",
      "------\n",
      "11\n",
      "------\n",
      "12\n",
      "------\n",
      "13\n",
      "------\n",
      "14\n",
      "------\n",
      "15\n",
      "------\n",
      "16\n",
      "------\n",
      "17\n",
      "------\n",
      "18\n",
      "------\n",
      "19\n",
      "------\n",
      "20\n",
      "------\n",
      "21\n",
      "------\n",
      "22\n",
      "------\n",
      "23\n",
      "------\n",
      "24\n",
      "------\n",
      "25\n",
      "------\n",
      "26\n",
      "------\n",
      "27\n",
      "------\n",
      "28\n",
      "------\n",
      "29\n",
      "------\n",
      "30\n",
      "------\n",
      "31\n",
      "------\n",
      "32\n",
      "------\n",
      "33\n",
      "------\n",
      "34\n",
      "------\n",
      "35\n",
      "------\n",
      "36\n",
      "------\n",
      "37\n",
      "------\n",
      "38\n",
      "------\n",
      "39\n",
      "------\n",
      "40\n",
      "------\n",
      "41\n",
      "------\n",
      "42\n",
      "------\n",
      "43\n",
      "------\n",
      "44\n",
      "------\n",
      "45\n",
      "------\n",
      "46\n",
      "------\n",
      "47\n",
      "------\n",
      "48\n",
      "------\n",
      "49\n",
      "------\n",
      "50\n",
      "------\n",
      "51\n",
      "------\n",
      "52\n",
      "------\n",
      "53\n",
      "------\n",
      "54\n",
      "------\n",
      "55\n",
      "------\n",
      "56\n",
      "------\n",
      "57\n",
      "------\n",
      "58\n",
      "------\n",
      "59\n",
      "------\n",
      "60\n",
      "------\n",
      "61\n",
      "------\n",
      "62\n",
      "------\n",
      "63\n",
      "------\n",
      "64\n",
      "------\n",
      "65\n",
      "------\n",
      "66\n",
      "------\n",
      "67\n",
      "------\n",
      "68\n",
      "------\n",
      "69\n",
      "------\n",
      "70\n",
      "------\n",
      "71\n",
      "------\n",
      "72\n",
      "------\n",
      "73\n",
      "------\n",
      "74\n",
      "------\n",
      "75\n",
      "------\n",
      "76\n",
      "------\n",
      "77\n",
      "------\n",
      "78\n",
      "------\n",
      "79\n",
      "------\n",
      "80\n",
      "------\n",
      "81\n",
      "------\n",
      "82\n",
      "------\n",
      "83\n",
      "------\n",
      "84\n",
      "------\n",
      "85\n",
      "------\n",
      "86\n",
      "------\n",
      "87\n",
      "------\n",
      "88\n",
      "------\n",
      "89\n",
      "------\n",
      "90\n",
      "------\n",
      "91\n",
      "------\n",
      "92\n",
      "------\n",
      "93\n",
      "------\n",
      "94\n",
      "------\n",
      "95\n",
      "------\n",
      "96\n",
      "------\n",
      "97\n",
      "------\n",
      "98\n",
      "------\n",
      "99\n"
     ]
    }
   ],
   "source": [
    "execute_exp(args)"
   ]
  },
  {
   "cell_type": "code",
   "execution_count": null,
   "metadata": {},
   "outputs": [],
   "source": [
    "display_Metrics(args,test=True,save=True)"
   ]
  }
 ],
 "metadata": {
  "interpreter": {
   "hash": "054c0128ae785496ec715fe55dc407401ac17e534a17f921fadf0b2704e9e719"
  },
  "kernelspec": {
   "display_name": "Python 3 (ipykernel)",
   "language": "python",
   "name": "python3"
  },
  "language_info": {
   "codemirror_mode": {
    "name": "ipython",
    "version": 3
   },
   "file_extension": ".py",
   "mimetype": "text/x-python",
   "name": "python",
   "nbconvert_exporter": "python",
   "pygments_lexer": "ipython3",
   "version": "3.10.8"
  }
 },
 "nbformat": 4,
 "nbformat_minor": 4
}
